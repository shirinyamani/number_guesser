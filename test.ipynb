{
 "cells": [
  {
   "cell_type": "code",
   "execution_count": 59,
   "metadata": {},
   "outputs": [
    {
     "data": {
      "text/plain": [
       "87"
      ]
     },
     "execution_count": 59,
     "metadata": {},
     "output_type": "execute_result"
    }
   ],
   "source": [
    "import random\n",
    "target = random.randint(1,100)\n",
    "target"
   ]
  },
  {
   "cell_type": "code",
   "execution_count": 62,
   "metadata": {},
   "outputs": [],
   "source": [
    "def wanna_play(response):\n",
    "    response = input(\"y or n\")\n",
    "    if response == 'y':\n",
    "        return True\n",
    "    return False"
   ]
  },
  {
   "cell_type": "code",
   "execution_count": 63,
   "metadata": {},
   "outputs": [],
   "source": [
    "def input_validation(user_guess):\n",
    "\n",
    "    if not user_guess.isdigit(): #str\n",
    "        print(\"Invalid input! Please enter number between 0-100\")\n",
    "        return False\n",
    "    \n",
    "    user_guess= int(user_guess)\n",
    "    if user_guess > 100 or user_guess<1:\n",
    "        print(\"number not in valid range\")\n",
    "        return False\n",
    "\n",
    "    return True"
   ]
  },
  {
   "cell_type": "code",
   "execution_count": 64,
   "metadata": {},
   "outputs": [
    {
     "name": "stdout",
     "output_type": "stream",
     "text": [
      "go Lower\n",
      " You total score is 99\n",
      "go Lower\n",
      " You total score is 98\n",
      "go Lower\n",
      " You total score is 97\n",
      "go Lower\n",
      " You total score is 96\n",
      "go Lower\n",
      " You total score is 95\n",
      "we missed you...\n"
     ]
    }
   ],
   "source": [
    "\n",
    "total_score = 100\n",
    "while True:\n",
    "    user_guess = input(\"Enter a number between 0-100\")\n",
    "    \n",
    "    if user_guess == \"q\":\n",
    "        print('we missed you...')\n",
    "        break\n",
    "\n",
    "    if not input_validation(user_guess):\n",
    "        continue\n",
    "\n",
    "    user_guess = int(user_guess)\n",
    "    if target > user_guess:\n",
    "        print('go Lower')\n",
    "  \n",
    "    \n",
    "    elif target < user_guess:\n",
    "        print('go Upper')\n",
    "\n",
    "    else:\n",
    "        print(\"you won!, your score is 100!\")\n",
    "        wanna_play = input('wanna play again? y/n')\n",
    "        if wanna_play == 'y':\n",
    "            user_guess = random.randint(1,100)\n",
    "            total_score = 100\n",
    "            continue\n",
    "        else:\n",
    "            print('Untill next time!')\n",
    "            break\n",
    "    \n",
    "    total_score -= 1\n",
    "    total_score= max(total_score, 0) #not show -\n",
    "    print(f' You total score is {total_score}')\n",
    "\n",
    "\n",
    "                \n",
    "\n",
    "\n",
    "\n"
   ]
  },
  {
   "cell_type": "markdown",
   "metadata": {},
   "source": [
    "- int but not in the range\n",
    "- int in range ---> valid\n",
    "- not int from scratch"
   ]
  },
  {
   "cell_type": "code",
   "execution_count": null,
   "metadata": {},
   "outputs": [],
   "source": [
    "def wanna_play(response):\n",
    "    response = input(\"y or n\")\n",
    "    if response == 'n':\n",
    "        return False\n",
    "    return True\n",
    "        "
   ]
  }
 ],
 "metadata": {
  "kernelspec": {
   "display_name": "ali-ml",
   "language": "python",
   "name": "python3"
  },
  "language_info": {
   "codemirror_mode": {
    "name": "ipython",
    "version": 3
   },
   "file_extension": ".py",
   "mimetype": "text/x-python",
   "name": "python",
   "nbconvert_exporter": "python",
   "pygments_lexer": "ipython3",
   "version": "3.10.12"
  }
 },
 "nbformat": 4,
 "nbformat_minor": 2
}
